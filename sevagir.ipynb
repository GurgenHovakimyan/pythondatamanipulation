{
 "cells": [
  {
   "cell_type": "code",
   "execution_count": 1,
   "metadata": {
    "ExecuteTime": {
     "end_time": "2020-12-13T11:05:08.082447Z",
     "start_time": "2020-12-13T11:05:05.952683Z"
    }
   },
   "outputs": [],
   "source": [
    "import numpy as np\n",
    "import pandas as pd\n",
    "import csv"
   ]
  },
  {
   "cell_type": "code",
   "execution_count": 2,
   "metadata": {
    "ExecuteTime": {
     "end_time": "2020-12-13T11:05:08.092012Z",
     "start_time": "2020-12-13T11:05:08.085761Z"
    }
   },
   "outputs": [],
   "source": [
    "from numpy import dtype"
   ]
  },
  {
   "cell_type": "code",
   "execution_count": 3,
   "metadata": {
    "ExecuteTime": {
     "end_time": "2020-12-13T11:05:08.106774Z",
     "start_time": "2020-12-13T11:05:08.097754Z"
    }
   },
   "outputs": [],
   "source": [
    "# from numpy import genfromtxt"
   ]
  },
  {
   "cell_type": "code",
   "execution_count": 4,
   "metadata": {
    "ExecuteTime": {
     "end_time": "2020-12-13T11:05:08.115782Z",
     "start_time": "2020-12-13T11:05:08.110274Z"
    }
   },
   "outputs": [],
   "source": [
    "# my_data = genfromtxt('oil.csv', delimiter = ',', dtype = None, encoding = None)"
   ]
  },
  {
   "cell_type": "code",
   "execution_count": 53,
   "metadata": {
    "ExecuteTime": {
     "end_time": "2020-12-13T12:26:04.500054Z",
     "start_time": "2020-12-13T12:26:04.475428Z"
    }
   },
   "outputs": [],
   "source": [
    "df = pd.read_csv('oil.csv')"
   ]
  },
  {
   "cell_type": "code",
   "execution_count": 6,
   "metadata": {
    "ExecuteTime": {
     "end_time": "2020-12-13T11:05:10.896680Z",
     "start_time": "2020-12-13T11:05:10.764439Z"
    }
   },
   "outputs": [
    {
     "data": {
      "text/html": [
       "<div>\n",
       "<style scoped>\n",
       "    .dataframe tbody tr th:only-of-type {\n",
       "        vertical-align: middle;\n",
       "    }\n",
       "\n",
       "    .dataframe tbody tr th {\n",
       "        vertical-align: top;\n",
       "    }\n",
       "\n",
       "    .dataframe thead th {\n",
       "        text-align: right;\n",
       "    }\n",
       "</style>\n",
       "<table border=\"1\" class=\"dataframe\">\n",
       "  <thead>\n",
       "    <tr style=\"text-align: right;\">\n",
       "      <th></th>\n",
       "      <th>Date</th>\n",
       "      <th>Open</th>\n",
       "      <th>High</th>\n",
       "      <th>Low</th>\n",
       "      <th>Close</th>\n",
       "      <th>Vol</th>\n",
       "      <th>Weekday</th>\n",
       "      <th>Month</th>\n",
       "      <th>Year</th>\n",
       "    </tr>\n",
       "  </thead>\n",
       "  <tbody>\n",
       "    <tr>\n",
       "      <th>0</th>\n",
       "      <td>10/1/2012</td>\n",
       "      <td>112.14</td>\n",
       "      <td>113.27</td>\n",
       "      <td>110.76</td>\n",
       "      <td>111.40</td>\n",
       "      <td>80055</td>\n",
       "      <td>Monday</td>\n",
       "      <td>Oct</td>\n",
       "      <td>2012</td>\n",
       "    </tr>\n",
       "    <tr>\n",
       "      <th>1</th>\n",
       "      <td>10/2/2012</td>\n",
       "      <td>111.40</td>\n",
       "      <td>111.70</td>\n",
       "      <td>110.55</td>\n",
       "      <td>110.55</td>\n",
       "      <td>29332</td>\n",
       "      <td>Tuesday</td>\n",
       "      <td>Oct</td>\n",
       "      <td>2012</td>\n",
       "    </tr>\n",
       "    <tr>\n",
       "      <th>2</th>\n",
       "      <td>10/3/2012</td>\n",
       "      <td>110.55</td>\n",
       "      <td>110.59</td>\n",
       "      <td>106.95</td>\n",
       "      <td>107.34</td>\n",
       "      <td>56307</td>\n",
       "      <td>Wednesday</td>\n",
       "      <td>Oct</td>\n",
       "      <td>2012</td>\n",
       "    </tr>\n",
       "    <tr>\n",
       "      <th>3</th>\n",
       "      <td>10/4/2012</td>\n",
       "      <td>107.44</td>\n",
       "      <td>111.79</td>\n",
       "      <td>107.24</td>\n",
       "      <td>111.36</td>\n",
       "      <td>61664</td>\n",
       "      <td>Thursday</td>\n",
       "      <td>Oct</td>\n",
       "      <td>2012</td>\n",
       "    </tr>\n",
       "    <tr>\n",
       "      <th>4</th>\n",
       "      <td>10/5/2012</td>\n",
       "      <td>111.27</td>\n",
       "      <td>112.09</td>\n",
       "      <td>109.64</td>\n",
       "      <td>111.13</td>\n",
       "      <td>51704</td>\n",
       "      <td>Friday</td>\n",
       "      <td>Oct</td>\n",
       "      <td>2012</td>\n",
       "    </tr>\n",
       "  </tbody>\n",
       "</table>\n",
       "</div>"
      ],
      "text/plain": [
       "        Date    Open    High     Low   Close    Vol    Weekday Month  Year\n",
       "0  10/1/2012  112.14  113.27  110.76  111.40  80055     Monday   Oct  2012\n",
       "1  10/2/2012  111.40  111.70  110.55  110.55  29332    Tuesday   Oct  2012\n",
       "2  10/3/2012  110.55  110.59  106.95  107.34  56307  Wednesday   Oct  2012\n",
       "3  10/4/2012  107.44  111.79  107.24  111.36  61664   Thursday   Oct  2012\n",
       "4  10/5/2012  111.27  112.09  109.64  111.13  51704     Friday   Oct  2012"
      ]
     },
     "execution_count": 6,
     "metadata": {},
     "output_type": "execute_result"
    }
   ],
   "source": [
    "df.head()"
   ]
  },
  {
   "cell_type": "code",
   "execution_count": 8,
   "metadata": {
    "ExecuteTime": {
     "end_time": "2020-12-12T17:34:41.826942Z",
     "start_time": "2020-12-12T17:34:41.816910Z"
    }
   },
   "outputs": [],
   "source": [
    "import normalization"
   ]
  },
  {
   "cell_type": "code",
   "execution_count": 8,
   "metadata": {
    "ExecuteTime": {
     "end_time": "2020-12-12T15:06:45.833238Z",
     "start_time": "2020-12-12T15:02:28.507635Z"
    }
   },
   "outputs": [
    {
     "name": "stderr",
     "output_type": "stream",
     "text": [
      "C:\\Users\\Gurgen\\Desktop\\Master Degree\\1 course\\1 half\\Python\\Group_Project\\Marianna_Gurgen\\normalization.py:25: SettingWithCopyWarning: \n",
      "A value is trying to be set on a copy of a slice from a DataFrame\n",
      "\n",
      "See the caveats in the documentation: http://pandas.pydata.org/pandas-docs/stable/indexing.html#indexing-view-versus-copy\n",
      "  df[a[i]][j] = (df[a[i]][j] - avg)/(sd)\n"
     ]
    }
   ],
   "source": [
    "normalization.normalization(df)"
   ]
  },
  {
   "cell_type": "code",
   "execution_count": 12,
   "metadata": {
    "ExecuteTime": {
     "end_time": "2020-12-12T15:54:03.200115Z",
     "start_time": "2020-12-12T15:54:03.188540Z"
    }
   },
   "outputs": [],
   "source": [
    "import descriptive_statistics as ds"
   ]
  },
  {
   "cell_type": "code",
   "execution_count": 15,
   "metadata": {
    "ExecuteTime": {
     "end_time": "2020-12-12T15:54:42.780020Z",
     "start_time": "2020-12-12T15:54:42.746082Z"
    },
    "scrolled": true
   },
   "outputs": [
    {
     "name": "stdout",
     "output_type": "stream",
     "text": [
      "Date\n",
      "Count :  1643\n",
      "Unique :  1643\n",
      "Top :  1\n",
      "\n",
      "\n",
      "Open\n",
      "Count :  1643\n",
      "Min :  27.99\n",
      "1st Q :  49.925\n",
      "Median :  61.68\n",
      "3rd Q :  106.97\n",
      "Max :  117.96\n",
      "Mean :  74.06831405964707\n",
      "St. dev :  27.80608273465092\n",
      "\n",
      "\n",
      "High\n",
      "Count :  1643\n",
      "Min :  28.75\n",
      "1st Q :  50.67\n",
      "Median :  62.7\n",
      "3rd Q :  107.845\n",
      "Max :  118.29\n",
      "Mean :  74.78076080340847\n",
      "St. dev :  27.780344052611788\n",
      "\n",
      "\n",
      "Low\n",
      "Count :  1643\n",
      "Min :  27.1\n",
      "1st Q :  49.25\n",
      "Median :  60.63\n",
      "3rd Q :  106.455\n",
      "Max :  117.74\n",
      "Mean :  73.32127814972615\n",
      "St. dev :  27.808711385783646\n",
      "\n",
      "\n",
      "Close\n",
      "Count :  1643\n",
      "Min :  27.79\n",
      "1st Q :  49.92\n",
      "Median :  61.87\n",
      "3rd Q :  107.03\n",
      "Max :  118.04\n",
      "Mean :  74.04758368837497\n",
      "St. dev :  27.808848624480497\n",
      "\n",
      "\n",
      "Vol\n",
      "Count :  1643\n",
      "Min :  0\n",
      "1st Q :  48471.5\n",
      "Median :  113728.0\n",
      "3rd Q :  159089.0\n",
      "Max :  522586\n",
      "Mean :  108013.22458916616\n",
      "St. dev :  72296.2539506527\n",
      "\n",
      "\n",
      "Weekday\n",
      "Count :  1643\n",
      "Unique :  6\n",
      "Top :  1\n",
      "\n",
      "\n",
      "Month\n",
      "Count :  1643\n",
      "Unique :  12\n",
      "Top :  1\n",
      "\n",
      "\n",
      "Year\n",
      "Count :  1643\n",
      "Min :  2012\n",
      "1st Q :  2014.0\n",
      "Median :  2015.0\n",
      "3rd Q :  2016.0\n",
      "Max :  2018\n",
      "Mean :  2014.900182592818\n",
      "St. dev :  1.5591523715387525\n",
      "\n",
      "\n"
     ]
    }
   ],
   "source": [
    "ds.summary(df)"
   ]
  },
  {
   "cell_type": "code",
   "execution_count": null,
   "metadata": {
    "ExecuteTime": {
     "end_time": "2020-12-12T17:16:36.434519Z",
     "start_time": "2020-12-12T17:16:36.425995Z"
    }
   },
   "outputs": [],
   "source": []
  },
  {
   "cell_type": "code",
   "execution_count": 46,
   "metadata": {
    "ExecuteTime": {
     "end_time": "2020-12-12T16:58:59.526483Z",
     "start_time": "2020-12-12T16:58:59.509526Z"
    }
   },
   "outputs": [],
   "source": [
    "def grroup(x, *args):\n",
    "    values = list(args)\n",
    "    n = len(values)\n",
    "    for i in range(n):\n",
    "        print(x[x[values[i]] == n[i]])"
   ]
  },
  {
   "cell_type": "code",
   "execution_count": 47,
   "metadata": {
    "ExecuteTime": {
     "end_time": "2020-12-12T16:59:05.439002Z",
     "start_time": "2020-12-12T16:59:05.429684Z"
    }
   },
   "outputs": [
    {
     "name": "stdout",
     "output_type": "stream",
     "text": [
      "['Monday', 'Year']\n",
      "2\n"
     ]
    }
   ],
   "source": [
    "grroup(df, 'Weekday', 'Year')"
   ]
  },
  {
   "cell_type": "code",
   "execution_count": 44,
   "metadata": {
    "ExecuteTime": {
     "end_time": "2020-12-12T16:57:55.732686Z",
     "start_time": "2020-12-12T16:57:55.697220Z"
    }
   },
   "outputs": [
    {
     "data": {
      "text/html": [
       "<div>\n",
       "<style scoped>\n",
       "    .dataframe tbody tr th:only-of-type {\n",
       "        vertical-align: middle;\n",
       "    }\n",
       "\n",
       "    .dataframe tbody tr th {\n",
       "        vertical-align: top;\n",
       "    }\n",
       "\n",
       "    .dataframe thead th {\n",
       "        text-align: right;\n",
       "    }\n",
       "</style>\n",
       "<table border=\"1\" class=\"dataframe\">\n",
       "  <thead>\n",
       "    <tr style=\"text-align: right;\">\n",
       "      <th></th>\n",
       "      <th>Open</th>\n",
       "      <th>High</th>\n",
       "      <th>Low</th>\n",
       "      <th>Close</th>\n",
       "      <th>Vol</th>\n",
       "      <th>Year</th>\n",
       "    </tr>\n",
       "    <tr>\n",
       "      <th>Weekday</th>\n",
       "      <th></th>\n",
       "      <th></th>\n",
       "      <th></th>\n",
       "      <th></th>\n",
       "      <th></th>\n",
       "      <th></th>\n",
       "    </tr>\n",
       "  </thead>\n",
       "  <tbody>\n",
       "    <tr>\n",
       "      <th>Friday</th>\n",
       "      <td>74.300554</td>\n",
       "      <td>75.102103</td>\n",
       "      <td>73.467601</td>\n",
       "      <td>74.347601</td>\n",
       "      <td>127484.594096</td>\n",
       "      <td>2014.900369</td>\n",
       "    </tr>\n",
       "    <tr>\n",
       "      <th>Monday</th>\n",
       "      <td>74.278188</td>\n",
       "      <td>75.022283</td>\n",
       "      <td>73.380761</td>\n",
       "      <td>74.141014</td>\n",
       "      <td>112571.485507</td>\n",
       "      <td>2014.880435</td>\n",
       "    </tr>\n",
       "    <tr>\n",
       "      <th>Sunday</th>\n",
       "      <td>74.244607</td>\n",
       "      <td>74.396554</td>\n",
       "      <td>74.042622</td>\n",
       "      <td>74.204007</td>\n",
       "      <td>563.842697</td>\n",
       "      <td>2014.880150</td>\n",
       "    </tr>\n",
       "    <tr>\n",
       "      <th>Thursday</th>\n",
       "      <td>74.094638</td>\n",
       "      <td>74.967899</td>\n",
       "      <td>73.284601</td>\n",
       "      <td>74.154420</td>\n",
       "      <td>132995.304348</td>\n",
       "      <td>2014.905797</td>\n",
       "    </tr>\n",
       "    <tr>\n",
       "      <th>Tuesday</th>\n",
       "      <td>73.764188</td>\n",
       "      <td>74.577148</td>\n",
       "      <td>72.918159</td>\n",
       "      <td>73.736895</td>\n",
       "      <td>129377.797834</td>\n",
       "      <td>2014.924188</td>\n",
       "    </tr>\n",
       "    <tr>\n",
       "      <th>Wednesday</th>\n",
       "      <td>73.738768</td>\n",
       "      <td>74.612609</td>\n",
       "      <td>72.861558</td>\n",
       "      <td>73.713225</td>\n",
       "      <td>141857.873188</td>\n",
       "      <td>2014.909420</td>\n",
       "    </tr>\n",
       "  </tbody>\n",
       "</table>\n",
       "</div>"
      ],
      "text/plain": [
       "                Open       High        Low      Close            Vol  \\\n",
       "Weekday                                                                \n",
       "Friday     74.300554  75.102103  73.467601  74.347601  127484.594096   \n",
       "Monday     74.278188  75.022283  73.380761  74.141014  112571.485507   \n",
       "Sunday     74.244607  74.396554  74.042622  74.204007     563.842697   \n",
       "Thursday   74.094638  74.967899  73.284601  74.154420  132995.304348   \n",
       "Tuesday    73.764188  74.577148  72.918159  73.736895  129377.797834   \n",
       "Wednesday  73.738768  74.612609  72.861558  73.713225  141857.873188   \n",
       "\n",
       "                  Year  \n",
       "Weekday                 \n",
       "Friday     2014.900369  \n",
       "Monday     2014.880435  \n",
       "Sunday     2014.880150  \n",
       "Thursday   2014.905797  \n",
       "Tuesday    2014.924188  \n",
       "Wednesday  2014.909420  "
      ]
     },
     "execution_count": 44,
     "metadata": {},
     "output_type": "execute_result"
    }
   ],
   "source": [
    "df.groupby('Weekday').mean()"
   ]
  },
  {
   "cell_type": "code",
   "execution_count": 82,
   "metadata": {
    "ExecuteTime": {
     "end_time": "2020-12-12T17:28:41.008485Z",
     "start_time": "2020-12-12T17:28:41.002492Z"
    }
   },
   "outputs": [],
   "source": [
    "def grroup(df, colname):\n",
    "    unique_names = df[colname].unique()\n",
    "    n = len(unique_names)\n",
    "    new_list = []\n",
    "    for i in range(n):\n",
    "        a = df[df[colname]==unique_names[i]]\n",
    "        return a\n",
    "   \n",
    "        "
   ]
  },
  {
   "cell_type": "code",
   "execution_count": 84,
   "metadata": {
    "ExecuteTime": {
     "end_time": "2020-12-12T17:28:47.006406Z",
     "start_time": "2020-12-12T17:28:46.991452Z"
    },
    "scrolled": true
   },
   "outputs": [],
   "source": [
    "a = grroup(df, 'Weekday')"
   ]
  },
  {
   "cell_type": "code",
   "execution_count": 80,
   "metadata": {
    "ExecuteTime": {
     "end_time": "2020-12-12T18:06:37.035660Z",
     "start_time": "2020-12-12T18:06:37.024666Z"
    }
   },
   "outputs": [],
   "source": [
    "def grroup(df, colname):\n",
    "    unique_names = df[colname].unique()\n",
    "    n = len(unique_names)\n",
    "    new_list = []\n",
    "    for i in range(n):\n",
    "        a = df[df[colname]==unique_names[i]]\n",
    "        new_list.append(a)  \n",
    "    return new_list"
   ]
  },
  {
   "cell_type": "code",
   "execution_count": 81,
   "metadata": {
    "ExecuteTime": {
     "end_time": "2020-12-12T18:06:37.394606Z",
     "start_time": "2020-12-12T18:06:37.367585Z"
    }
   },
   "outputs": [],
   "source": [
    "a = grroup(df, 'Weekday')"
   ]
  },
  {
   "cell_type": "code",
   "execution_count": 7,
   "metadata": {
    "ExecuteTime": {
     "end_time": "2020-12-13T11:05:29.138979Z",
     "start_time": "2020-12-13T11:05:29.123969Z"
    }
   },
   "outputs": [],
   "source": [
    "import pivots"
   ]
  },
  {
   "cell_type": "code",
   "execution_count": 8,
   "metadata": {
    "ExecuteTime": {
     "end_time": "2020-12-13T11:05:29.887079Z",
     "start_time": "2020-12-13T11:05:29.799792Z"
    }
   },
   "outputs": [
    {
     "data": {
      "text/plain": [
       "array([[112.14, 0, 0, 0, 0, 0],\n",
       "       [0, 111.4, 0, 0, 0, 0],\n",
       "       [0, 0, 110.55, 0, 0, 0],\n",
       "       ...,\n",
       "       [0, 0, 70.18, 0, 0, 0],\n",
       "       [0, 0, 0, 70.09, 0, 0],\n",
       "       [0, 0, 0, 0, 69.01, 0]], dtype=object)"
      ]
     },
     "execution_count": 8,
     "metadata": {},
     "output_type": "execute_result"
    }
   ],
   "source": [
    "pivots.pivoting(df, 'Date', 'Weekday', 'Open')"
   ]
  },
  {
   "cell_type": "code",
   "execution_count": 9,
   "metadata": {
    "ExecuteTime": {
     "end_time": "2020-12-13T11:05:34.251322Z",
     "start_time": "2020-12-13T11:05:34.238025Z"
    }
   },
   "outputs": [],
   "source": [
    "# ete ham toxern en krknvox ham syunery petqa nory grvi anunn e kdnenq pivotingtable"
   ]
  },
  {
   "cell_type": "code",
   "execution_count": 10,
   "metadata": {
    "ExecuteTime": {
     "end_time": "2020-12-13T11:05:36.627036Z",
     "start_time": "2020-12-13T11:05:36.609117Z"
    }
   },
   "outputs": [],
   "source": [
    "df = pd.DataFrame({'foo': ['one', 'one', 'one', 'two', 'two',\n",
    "                           'two'],\n",
    "                   'bar': ['A', 'B', 'C', 'A', 'B', 'C'],\n",
    "                   'baz': [1, 2, 3, 4, 5, 6],\n",
    "                   'zoo': ['x', 'y', 'z', 'q', 'w', 't']})"
   ]
  },
  {
   "cell_type": "code",
   "execution_count": 11,
   "metadata": {
    "ExecuteTime": {
     "end_time": "2020-12-13T11:05:38.124034Z",
     "start_time": "2020-12-13T11:05:38.100121Z"
    }
   },
   "outputs": [
    {
     "data": {
      "text/html": [
       "<div>\n",
       "<style scoped>\n",
       "    .dataframe tbody tr th:only-of-type {\n",
       "        vertical-align: middle;\n",
       "    }\n",
       "\n",
       "    .dataframe tbody tr th {\n",
       "        vertical-align: top;\n",
       "    }\n",
       "\n",
       "    .dataframe thead th {\n",
       "        text-align: right;\n",
       "    }\n",
       "</style>\n",
       "<table border=\"1\" class=\"dataframe\">\n",
       "  <thead>\n",
       "    <tr style=\"text-align: right;\">\n",
       "      <th></th>\n",
       "      <th>foo</th>\n",
       "      <th>bar</th>\n",
       "      <th>baz</th>\n",
       "      <th>zoo</th>\n",
       "    </tr>\n",
       "  </thead>\n",
       "  <tbody>\n",
       "    <tr>\n",
       "      <th>0</th>\n",
       "      <td>one</td>\n",
       "      <td>A</td>\n",
       "      <td>1</td>\n",
       "      <td>x</td>\n",
       "    </tr>\n",
       "    <tr>\n",
       "      <th>1</th>\n",
       "      <td>one</td>\n",
       "      <td>B</td>\n",
       "      <td>2</td>\n",
       "      <td>y</td>\n",
       "    </tr>\n",
       "    <tr>\n",
       "      <th>2</th>\n",
       "      <td>one</td>\n",
       "      <td>C</td>\n",
       "      <td>3</td>\n",
       "      <td>z</td>\n",
       "    </tr>\n",
       "    <tr>\n",
       "      <th>3</th>\n",
       "      <td>two</td>\n",
       "      <td>A</td>\n",
       "      <td>4</td>\n",
       "      <td>q</td>\n",
       "    </tr>\n",
       "    <tr>\n",
       "      <th>4</th>\n",
       "      <td>two</td>\n",
       "      <td>B</td>\n",
       "      <td>5</td>\n",
       "      <td>w</td>\n",
       "    </tr>\n",
       "  </tbody>\n",
       "</table>\n",
       "</div>"
      ],
      "text/plain": [
       "   foo bar  baz zoo\n",
       "0  one   A    1   x\n",
       "1  one   B    2   y\n",
       "2  one   C    3   z\n",
       "3  two   A    4   q\n",
       "4  two   B    5   w"
      ]
     },
     "execution_count": 11,
     "metadata": {},
     "output_type": "execute_result"
    }
   ],
   "source": [
    "df.head()"
   ]
  },
  {
   "cell_type": "code",
   "execution_count": 12,
   "metadata": {
    "ExecuteTime": {
     "end_time": "2020-12-13T11:05:38.980787Z",
     "start_time": "2020-12-13T11:05:38.909108Z"
    }
   },
   "outputs": [
    {
     "data": {
      "text/plain": [
       "array([[1, 2, 3],\n",
       "       [4, 5, 6]], dtype=object)"
      ]
     },
     "execution_count": 12,
     "metadata": {},
     "output_type": "execute_result"
    }
   ],
   "source": [
    "pivots.pivoting(df, 'foo', 'bar', 'baz')"
   ]
  },
  {
   "cell_type": "code",
   "execution_count": null,
   "metadata": {},
   "outputs": [],
   "source": [
    "def pivoting(df, row, column, values):\n",
    "    data = df[[row, column,  values]].to_numpy()\n",
    "    rows, row_pos = np.unique(data[:, 0], return_inverse=True)\n",
    "    cols, col_pos = np.unique(data[:, 1], return_inverse=True)\n",
    "    row_pos = np.sort(row_pos)\n",
    "    col_pos = np.sort(col_pos)\n",
    "    col_pos = np.tile(np.unique(col_pos), len(row_pos))\n",
    "    pivot_table = np.zeros((len(rows), len(cols)), dtype=data.dtype)\n",
    "    pivot_table[row_pos, col_pos[0:len(row_pos)]] = data[:, 2]\n",
    "    return pivot_table"
   ]
  },
  {
   "cell_type": "code",
   "execution_count": null,
   "metadata": {},
   "outputs": [],
   "source": [
    "def pivottable(df, row, column, values):\n",
    "    data = df[[row, column,  values]].to_numpy()\n",
    "    rows, row_pos = np.unique(data[:, 0], return_inverse=True)\n",
    "    cols, col_pos = np.unique(data[:, 1], return_inverse=True)\n",
    "    row_pos = np.sort(row_pos)\n",
    "    col_pos = np.sort(col_pos)\n",
    "    col_pos = np.tile(np.unique(col_pos), len(row_pos))\n",
    "    "
   ]
  },
  {
   "cell_type": "code",
   "execution_count": 64,
   "metadata": {
    "ExecuteTime": {
     "end_time": "2020-12-13T12:45:17.625700Z",
     "start_time": "2020-12-13T12:45:17.611034Z"
    }
   },
   "outputs": [],
   "source": [
    "data = df[['Month', 'Weekday',  'Open']].to_numpy()\n",
    "rows, row_pos = np.unique(data[:, 0], return_inverse=True)\n",
    "cols, col_pos = np.unique(data[:, 1], return_inverse=True)"
   ]
  },
  {
   "cell_type": "code",
   "execution_count": 65,
   "metadata": {
    "ExecuteTime": {
     "end_time": "2020-12-13T12:45:18.458315Z",
     "start_time": "2020-12-13T12:45:18.437431Z"
    }
   },
   "outputs": [
    {
     "data": {
      "text/plain": [
       "array(['Apr', 'Aug', 'Dec', 'Feb', 'Jan', 'Jul', 'Jun', 'Mar', 'May',\n",
       "       'Nov', 'Oct', 'Sep'], dtype=object)"
      ]
     },
     "execution_count": 65,
     "metadata": {},
     "output_type": "execute_result"
    }
   ],
   "source": [
    "rows"
   ]
  },
  {
   "cell_type": "code",
   "execution_count": 66,
   "metadata": {
    "ExecuteTime": {
     "end_time": "2020-12-13T12:45:19.761512Z",
     "start_time": "2020-12-13T12:45:19.739515Z"
    }
   },
   "outputs": [
    {
     "data": {
      "text/plain": [
       "'Friday'"
      ]
     },
     "execution_count": 66,
     "metadata": {},
     "output_type": "execute_result"
    }
   ],
   "source": [
    "cols[0]"
   ]
  },
  {
   "cell_type": "code",
   "execution_count": 67,
   "metadata": {
    "ExecuteTime": {
     "end_time": "2020-12-13T12:45:21.446150Z",
     "start_time": "2020-12-13T12:45:21.429284Z"
    }
   },
   "outputs": [
    {
     "data": {
      "text/plain": [
       "(12, 6)"
      ]
     },
     "execution_count": 67,
     "metadata": {},
     "output_type": "execute_result"
    }
   ],
   "source": [
    "np.empty([len(rows), len(cols)]).shape"
   ]
  },
  {
   "cell_type": "code",
   "execution_count": 68,
   "metadata": {
    "ExecuteTime": {
     "end_time": "2020-12-13T12:45:24.274951Z",
     "start_time": "2020-12-13T12:45:24.093552Z"
    }
   },
   "outputs": [],
   "source": [
    "new_list = []\n",
    "for i in range(len(rows)):\n",
    "    a = df.copy()\n",
    "    a = a[a['Month']== rows[i]]\n",
    "    for j in range(len(cols)):\n",
    "        b = a.copy()\n",
    "        b = b[b['Weekday'] == cols[j]]\n",
    "        c = b['Open'].mean()\n",
    "        new_list.append(c)"
   ]
  },
  {
   "cell_type": "code",
   "execution_count": 75,
   "metadata": {
    "ExecuteTime": {
     "end_time": "2020-12-13T12:47:32.223257Z",
     "start_time": "2020-12-13T12:47:32.215440Z"
    }
   },
   "outputs": [],
   "source": [
    "col_pos = np.tile(np.unique(col_pos), len(row_pos))\n",
    "pivot_table = np.zeros((len(rows), len(cols)), dtype=data.dtype)"
   ]
  },
  {
   "cell_type": "code",
   "execution_count": 90,
   "metadata": {
    "ExecuteTime": {
     "end_time": "2020-12-13T13:17:25.495142Z",
     "start_time": "2020-12-13T13:17:25.477403Z"
    }
   },
   "outputs": [
    {
     "data": {
      "text/plain": [
       "[72.19888888888889,\n",
       " 75.26190476190477,\n",
       " 72.48619047619049,\n",
       " 73.32380952380953,\n",
       " 76.83363636363637,\n",
       " 74.92363636363638,\n",
       " 75.3677272727273,\n",
       " 70.00454545454546,\n",
       " 72.78818181818181,\n",
       " 72.63818181818182]"
      ]
     },
     "execution_count": 90,
     "metadata": {},
     "output_type": "execute_result"
    }
   ],
   "source": [
    "pivot_table[0, 0] = new_list[0]\n",
    "new_list[0:10]"
   ]
  },
  {
   "cell_type": "code",
   "execution_count": null,
   "metadata": {
    "ExecuteTime": {
     "end_time": "2020-12-13T13:24:03.546637Z",
     "start_time": "2020-12-13T13:24:03.483940Z"
    },
    "scrolled": true
   },
   "outputs": [],
   "source": []
  },
  {
   "cell_type": "code",
   "execution_count": 95,
   "metadata": {
    "ExecuteTime": {
     "end_time": "2020-12-13T13:22:04.636122Z",
     "start_time": "2020-12-13T13:22:04.611109Z"
    }
   },
   "outputs": [],
   "source": [
    "def pivvottable(df, row, column, value):\n",
    "    data = df[[row, column, value]].to_numpy()\n",
    "    rows, row_pos = np.unique(data[:, 0], return_inverse = True)\n",
    "    cols, col_pos = np.unique(data[:, 1], return_inverse = True)\n",
    "    new_list = []\n",
    "    for i in range(len(rows)):\n",
    "        a = df.copy()\n",
    "        a = a[a[row]== rows[i]]\n",
    "        for j in range(len(cols)):\n",
    "            b = a.copy()\n",
    "            b = b[b[column] == cols[j]]\n",
    "            c = b[value].mean()\n",
    "            new_list.append(c)\n",
    "    pivottable = np.array(new_list).reshape(len(rows), len(cols))\n",
    "    return pivottable"
   ]
  },
  {
   "cell_type": "code",
   "execution_count": 96,
   "metadata": {
    "ExecuteTime": {
     "end_time": "2020-12-13T13:22:06.495000Z",
     "start_time": "2020-12-13T13:22:06.255038Z"
    }
   },
   "outputs": [
    {
     "data": {
      "text/plain": [
       "array([[72.19888889, 75.26190476, 72.48619048, 73.32380952, 76.83363636,\n",
       "        74.92363636],\n",
       "       [75.36772727, 70.00454545, 72.78818182, 72.63818182, 69.83181818,\n",
       "        69.87136364],\n",
       "       [73.6332    , 77.1632    , 77.51666667, 71.7928    , 71.85      ,\n",
       "        70.2232    ],\n",
       "       [74.7515    , 72.78      , 74.623     , 74.382     , 74.557     ,\n",
       "        74.343     ],\n",
       "       [71.70846154, 70.6048    , 70.52318182, 73.88307692, 69.93807692,\n",
       "        72.1028    ],\n",
       "       [71.82727273, 74.15318182, 71.51727273, 74.47909091, 76.59272727,\n",
       "        76.11956522],\n",
       "       [74.05761905, 76.20863636, 77.86045455, 73.04454545, 74.41380952,\n",
       "        74.2547619 ],\n",
       "       [73.938     , 74.37772727, 75.98652174, 70.89954545, 71.00681818,\n",
       "        70.76772727],\n",
       "       [77.54782609, 73.39863636, 73.5125    , 77.98909091, 73.18409091,\n",
       "        75.55954545],\n",
       "       [77.57115385, 74.4484    , 74.012     , 76.17115385, 74.8708    ,\n",
       "        74.05615385],\n",
       "       [77.33384615, 77.31259259, 75.6412    , 78.17814815, 79.46      ,\n",
       "        80.65444444],\n",
       "       [70.55454545, 74.99590909, 73.80047619, 71.26333333, 72.33136364,\n",
       "        70.90333333]])"
      ]
     },
     "execution_count": 96,
     "metadata": {},
     "output_type": "execute_result"
    }
   ],
   "source": [
    "pivvottable(df, 'Month', 'Weekday', 'Open')"
   ]
  },
  {
   "cell_type": "code",
   "execution_count": 102,
   "metadata": {
    "ExecuteTime": {
     "end_time": "2020-12-13T13:24:51.860560Z",
     "start_time": "2020-12-13T13:24:51.800283Z"
    }
   },
   "outputs": [
    {
     "data": {
      "text/html": [
       "<div>\n",
       "<style scoped>\n",
       "    .dataframe tbody tr th:only-of-type {\n",
       "        vertical-align: middle;\n",
       "    }\n",
       "\n",
       "    .dataframe tbody tr th {\n",
       "        vertical-align: top;\n",
       "    }\n",
       "\n",
       "    .dataframe thead th {\n",
       "        text-align: right;\n",
       "    }\n",
       "</style>\n",
       "<table border=\"1\" class=\"dataframe\">\n",
       "  <thead>\n",
       "    <tr style=\"text-align: right;\">\n",
       "      <th></th>\n",
       "      <th></th>\n",
       "      <th>Open</th>\n",
       "      <th>High</th>\n",
       "      <th>Low</th>\n",
       "      <th>Close</th>\n",
       "      <th>Vol</th>\n",
       "      <th>Year</th>\n",
       "    </tr>\n",
       "    <tr>\n",
       "      <th>Month</th>\n",
       "      <th>Weekday</th>\n",
       "      <th></th>\n",
       "      <th></th>\n",
       "      <th></th>\n",
       "      <th></th>\n",
       "      <th></th>\n",
       "      <th></th>\n",
       "    </tr>\n",
       "  </thead>\n",
       "  <tbody>\n",
       "    <tr>\n",
       "      <th rowspan=\"6\" valign=\"top\">Apr</th>\n",
       "      <th>Friday</th>\n",
       "      <td>72.198889</td>\n",
       "      <td>72.911667</td>\n",
       "      <td>71.253333</td>\n",
       "      <td>72.011111</td>\n",
       "      <td>141810.611111</td>\n",
       "      <td>2015.000000</td>\n",
       "    </tr>\n",
       "    <tr>\n",
       "      <th>Monday</th>\n",
       "      <td>75.261905</td>\n",
       "      <td>76.180000</td>\n",
       "      <td>74.394762</td>\n",
       "      <td>75.371905</td>\n",
       "      <td>119385.285714</td>\n",
       "      <td>2014.904762</td>\n",
       "    </tr>\n",
       "    <tr>\n",
       "      <th>Sunday</th>\n",
       "      <td>72.486190</td>\n",
       "      <td>72.635238</td>\n",
       "      <td>72.343333</td>\n",
       "      <td>72.507143</td>\n",
       "      <td>790.476190</td>\n",
       "      <td>2015.095238</td>\n",
       "    </tr>\n",
       "    <tr>\n",
       "      <th>Thursday</th>\n",
       "      <td>73.323810</td>\n",
       "      <td>74.423810</td>\n",
       "      <td>72.618095</td>\n",
       "      <td>73.722857</td>\n",
       "      <td>132618.714286</td>\n",
       "      <td>2015.000000</td>\n",
       "    </tr>\n",
       "    <tr>\n",
       "      <th>Tuesday</th>\n",
       "      <td>76.833636</td>\n",
       "      <td>77.732727</td>\n",
       "      <td>75.984545</td>\n",
       "      <td>77.085455</td>\n",
       "      <td>127994.000000</td>\n",
       "      <td>2014.863636</td>\n",
       "    </tr>\n",
       "    <tr>\n",
       "      <th>Wednesday</th>\n",
       "      <td>74.923636</td>\n",
       "      <td>75.931364</td>\n",
       "      <td>73.938182</td>\n",
       "      <td>74.885909</td>\n",
       "      <td>145115.318182</td>\n",
       "      <td>2014.954545</td>\n",
       "    </tr>\n",
       "    <tr>\n",
       "      <th rowspan=\"6\" valign=\"top\">Aug</th>\n",
       "      <th>Friday</th>\n",
       "      <td>75.367727</td>\n",
       "      <td>76.331364</td>\n",
       "      <td>74.792273</td>\n",
       "      <td>75.637273</td>\n",
       "      <td>130414.363636</td>\n",
       "      <td>2014.863636</td>\n",
       "    </tr>\n",
       "    <tr>\n",
       "      <th>Monday</th>\n",
       "      <td>70.004545</td>\n",
       "      <td>70.789091</td>\n",
       "      <td>69.001364</td>\n",
       "      <td>69.821364</td>\n",
       "      <td>129490.500000</td>\n",
       "      <td>2015.045455</td>\n",
       "    </tr>\n",
       "    <tr>\n",
       "      <th>Sunday</th>\n",
       "      <td>72.788182</td>\n",
       "      <td>72.890455</td>\n",
       "      <td>72.625455</td>\n",
       "      <td>72.723636</td>\n",
       "      <td>365.818182</td>\n",
       "      <td>2014.954545</td>\n",
       "    </tr>\n",
       "    <tr>\n",
       "      <th>Thursday</th>\n",
       "      <td>72.638182</td>\n",
       "      <td>73.674091</td>\n",
       "      <td>71.893182</td>\n",
       "      <td>72.942273</td>\n",
       "      <td>145354.227273</td>\n",
       "      <td>2015.000000</td>\n",
       "    </tr>\n",
       "    <tr>\n",
       "      <th>Tuesday</th>\n",
       "      <td>69.831818</td>\n",
       "      <td>70.681818</td>\n",
       "      <td>69.139091</td>\n",
       "      <td>69.929545</td>\n",
       "      <td>133827.772727</td>\n",
       "      <td>2015.136364</td>\n",
       "    </tr>\n",
       "    <tr>\n",
       "      <th>Wednesday</th>\n",
       "      <td>69.871364</td>\n",
       "      <td>70.605909</td>\n",
       "      <td>69.183636</td>\n",
       "      <td>69.916818</td>\n",
       "      <td>148630.000000</td>\n",
       "      <td>2015.136364</td>\n",
       "    </tr>\n",
       "    <tr>\n",
       "      <th rowspan=\"6\" valign=\"top\">Dec</th>\n",
       "      <th>Friday</th>\n",
       "      <td>73.633200</td>\n",
       "      <td>74.528000</td>\n",
       "      <td>72.994800</td>\n",
       "      <td>73.880400</td>\n",
       "      <td>109436.720000</td>\n",
       "      <td>2014.640000</td>\n",
       "    </tr>\n",
       "    <tr>\n",
       "      <th>Monday</th>\n",
       "      <td>77.163200</td>\n",
       "      <td>78.096000</td>\n",
       "      <td>76.106800</td>\n",
       "      <td>76.834800</td>\n",
       "      <td>100183.480000</td>\n",
       "      <td>2014.160000</td>\n",
       "    </tr>\n",
       "    <tr>\n",
       "      <th>Sunday</th>\n",
       "      <td>77.516667</td>\n",
       "      <td>77.735417</td>\n",
       "      <td>77.314583</td>\n",
       "      <td>77.520417</td>\n",
       "      <td>845.041667</td>\n",
       "      <td>2014.166667</td>\n",
       "    </tr>\n",
       "    <tr>\n",
       "      <th>Thursday</th>\n",
       "      <td>71.792800</td>\n",
       "      <td>72.592400</td>\n",
       "      <td>71.044800</td>\n",
       "      <td>71.791200</td>\n",
       "      <td>111614.360000</td>\n",
       "      <td>2014.600000</td>\n",
       "    </tr>\n",
       "    <tr>\n",
       "      <th>Tuesday</th>\n",
       "      <td>71.850000</td>\n",
       "      <td>72.690385</td>\n",
       "      <td>71.125000</td>\n",
       "      <td>71.899231</td>\n",
       "      <td>105583.346154</td>\n",
       "      <td>2014.538462</td>\n",
       "    </tr>\n",
       "    <tr>\n",
       "      <th>Wednesday</th>\n",
       "      <td>70.223200</td>\n",
       "      <td>71.029200</td>\n",
       "      <td>69.166400</td>\n",
       "      <td>69.882400</td>\n",
       "      <td>120168.360000</td>\n",
       "      <td>2014.560000</td>\n",
       "    </tr>\n",
       "    <tr>\n",
       "      <th rowspan=\"6\" valign=\"top\">Feb</th>\n",
       "      <th>Friday</th>\n",
       "      <td>74.751500</td>\n",
       "      <td>75.884500</td>\n",
       "      <td>74.225500</td>\n",
       "      <td>75.264000</td>\n",
       "      <td>117021.650000</td>\n",
       "      <td>2015.000000</td>\n",
       "    </tr>\n",
       "    <tr>\n",
       "      <th>Monday</th>\n",
       "      <td>72.780000</td>\n",
       "      <td>73.632857</td>\n",
       "      <td>71.944762</td>\n",
       "      <td>72.695714</td>\n",
       "      <td>117693.380952</td>\n",
       "      <td>2015.047619</td>\n",
       "    </tr>\n",
       "    <tr>\n",
       "      <th>Sunday</th>\n",
       "      <td>74.623000</td>\n",
       "      <td>74.796500</td>\n",
       "      <td>74.441500</td>\n",
       "      <td>74.633000</td>\n",
       "      <td>330.250000</td>\n",
       "      <td>2015.000000</td>\n",
       "    </tr>\n",
       "    <tr>\n",
       "      <th>Thursday</th>\n",
       "      <td>74.382000</td>\n",
       "      <td>75.325000</td>\n",
       "      <td>73.514000</td>\n",
       "      <td>74.557500</td>\n",
       "      <td>144242.250000</td>\n",
       "      <td>2015.000000</td>\n",
       "    </tr>\n",
       "    <tr>\n",
       "      <th>Tuesday</th>\n",
       "      <td>74.557000</td>\n",
       "      <td>75.471000</td>\n",
       "      <td>73.523500</td>\n",
       "      <td>74.328500</td>\n",
       "      <td>143664.050000</td>\n",
       "      <td>2015.000000</td>\n",
       "    </tr>\n",
       "    <tr>\n",
       "      <th>Wednesday</th>\n",
       "      <td>74.343000</td>\n",
       "      <td>75.291500</td>\n",
       "      <td>73.317500</td>\n",
       "      <td>74.366000</td>\n",
       "      <td>146979.550000</td>\n",
       "      <td>2015.000000</td>\n",
       "    </tr>\n",
       "    <tr>\n",
       "      <th rowspan=\"6\" valign=\"top\">Jan</th>\n",
       "      <th>Friday</th>\n",
       "      <td>71.708462</td>\n",
       "      <td>72.580769</td>\n",
       "      <td>70.767308</td>\n",
       "      <td>71.786538</td>\n",
       "      <td>136915.192308</td>\n",
       "      <td>2015.423077</td>\n",
       "    </tr>\n",
       "    <tr>\n",
       "      <th>Monday</th>\n",
       "      <td>70.604800</td>\n",
       "      <td>71.067600</td>\n",
       "      <td>69.594800</td>\n",
       "      <td>70.065600</td>\n",
       "      <td>102835.600000</td>\n",
       "      <td>2015.560000</td>\n",
       "    </tr>\n",
       "    <tr>\n",
       "      <th>Sunday</th>\n",
       "      <td>70.523182</td>\n",
       "      <td>70.640455</td>\n",
       "      <td>70.269545</td>\n",
       "      <td>70.418182</td>\n",
       "      <td>702.863636</td>\n",
       "      <td>2015.500000</td>\n",
       "    </tr>\n",
       "    <tr>\n",
       "      <th>Thursday</th>\n",
       "      <td>73.883077</td>\n",
       "      <td>74.795769</td>\n",
       "      <td>73.125000</td>\n",
       "      <td>73.910769</td>\n",
       "      <td>124811.692308</td>\n",
       "      <td>2015.346154</td>\n",
       "    </tr>\n",
       "    <tr>\n",
       "      <th>Tuesday</th>\n",
       "      <td>69.938077</td>\n",
       "      <td>70.846923</td>\n",
       "      <td>69.182308</td>\n",
       "      <td>69.791538</td>\n",
       "      <td>144992.269231</td>\n",
       "      <td>2015.653846</td>\n",
       "    </tr>\n",
       "    <tr>\n",
       "      <th>Wednesday</th>\n",
       "      <td>72.102800</td>\n",
       "      <td>73.005200</td>\n",
       "      <td>71.429200</td>\n",
       "      <td>72.383600</td>\n",
       "      <td>138245.840000</td>\n",
       "      <td>2015.400000</td>\n",
       "    </tr>\n",
       "    <tr>\n",
       "      <th>...</th>\n",
       "      <th>...</th>\n",
       "      <td>...</td>\n",
       "      <td>...</td>\n",
       "      <td>...</td>\n",
       "      <td>...</td>\n",
       "      <td>...</td>\n",
       "      <td>...</td>\n",
       "    </tr>\n",
       "    <tr>\n",
       "      <th rowspan=\"6\" valign=\"top\">Mar</th>\n",
       "      <th>Friday</th>\n",
       "      <td>73.938000</td>\n",
       "      <td>74.756000</td>\n",
       "      <td>73.182000</td>\n",
       "      <td>73.989500</td>\n",
       "      <td>124390.900000</td>\n",
       "      <td>2015.050000</td>\n",
       "    </tr>\n",
       "    <tr>\n",
       "      <th>Monday</th>\n",
       "      <td>74.377727</td>\n",
       "      <td>75.017273</td>\n",
       "      <td>73.462273</td>\n",
       "      <td>74.271364</td>\n",
       "      <td>110730.500000</td>\n",
       "      <td>2014.954545</td>\n",
       "    </tr>\n",
       "    <tr>\n",
       "      <th>Sunday</th>\n",
       "      <td>75.986522</td>\n",
       "      <td>76.184783</td>\n",
       "      <td>75.702174</td>\n",
       "      <td>75.916522</td>\n",
       "      <td>754.956522</td>\n",
       "      <td>2014.869565</td>\n",
       "    </tr>\n",
       "    <tr>\n",
       "      <th>Thursday</th>\n",
       "      <td>70.899545</td>\n",
       "      <td>71.605909</td>\n",
       "      <td>70.097727</td>\n",
       "      <td>70.849545</td>\n",
       "      <td>141264.909091</td>\n",
       "      <td>2015.136364</td>\n",
       "    </tr>\n",
       "    <tr>\n",
       "      <th>Tuesday</th>\n",
       "      <td>71.006818</td>\n",
       "      <td>71.703182</td>\n",
       "      <td>70.088182</td>\n",
       "      <td>70.712727</td>\n",
       "      <td>132804.500000</td>\n",
       "      <td>2015.045455</td>\n",
       "    </tr>\n",
       "    <tr>\n",
       "      <th>Wednesday</th>\n",
       "      <td>70.767727</td>\n",
       "      <td>71.608182</td>\n",
       "      <td>70.015000</td>\n",
       "      <td>70.897727</td>\n",
       "      <td>140629.000000</td>\n",
       "      <td>2015.136364</td>\n",
       "    </tr>\n",
       "    <tr>\n",
       "      <th rowspan=\"6\" valign=\"top\">May</th>\n",
       "      <th>Friday</th>\n",
       "      <td>77.547826</td>\n",
       "      <td>78.262609</td>\n",
       "      <td>76.655217</td>\n",
       "      <td>77.768696</td>\n",
       "      <td>126439.217391</td>\n",
       "      <td>2014.869565</td>\n",
       "    </tr>\n",
       "    <tr>\n",
       "      <th>Monday</th>\n",
       "      <td>73.398636</td>\n",
       "      <td>73.926364</td>\n",
       "      <td>72.595455</td>\n",
       "      <td>73.200455</td>\n",
       "      <td>88023.090909</td>\n",
       "      <td>2015.136364</td>\n",
       "    </tr>\n",
       "    <tr>\n",
       "      <th>Sunday</th>\n",
       "      <td>73.512500</td>\n",
       "      <td>73.661500</td>\n",
       "      <td>73.376000</td>\n",
       "      <td>73.513500</td>\n",
       "      <td>403.650000</td>\n",
       "      <td>2015.050000</td>\n",
       "    </tr>\n",
       "    <tr>\n",
       "      <th>Thursday</th>\n",
       "      <td>77.989091</td>\n",
       "      <td>78.785909</td>\n",
       "      <td>77.074545</td>\n",
       "      <td>78.005000</td>\n",
       "      <td>138520.636364</td>\n",
       "      <td>2014.863636</td>\n",
       "    </tr>\n",
       "    <tr>\n",
       "      <th>Tuesday</th>\n",
       "      <td>73.184091</td>\n",
       "      <td>73.990000</td>\n",
       "      <td>72.383182</td>\n",
       "      <td>73.225000</td>\n",
       "      <td>126326.818182</td>\n",
       "      <td>2015.136364</td>\n",
       "    </tr>\n",
       "    <tr>\n",
       "      <th>Wednesday</th>\n",
       "      <td>75.559545</td>\n",
       "      <td>76.343636</td>\n",
       "      <td>74.615909</td>\n",
       "      <td>75.410909</td>\n",
       "      <td>145746.090909</td>\n",
       "      <td>2015.000000</td>\n",
       "    </tr>\n",
       "    <tr>\n",
       "      <th rowspan=\"6\" valign=\"top\">Nov</th>\n",
       "      <th>Friday</th>\n",
       "      <td>77.571154</td>\n",
       "      <td>78.522308</td>\n",
       "      <td>76.652692</td>\n",
       "      <td>77.574231</td>\n",
       "      <td>124307.884615</td>\n",
       "      <td>2014.346154</td>\n",
       "    </tr>\n",
       "    <tr>\n",
       "      <th>Monday</th>\n",
       "      <td>74.448400</td>\n",
       "      <td>75.425600</td>\n",
       "      <td>73.622800</td>\n",
       "      <td>74.685600</td>\n",
       "      <td>123901.840000</td>\n",
       "      <td>2014.520000</td>\n",
       "    </tr>\n",
       "    <tr>\n",
       "      <th>Sunday</th>\n",
       "      <td>74.012000</td>\n",
       "      <td>74.186400</td>\n",
       "      <td>73.785200</td>\n",
       "      <td>73.949600</td>\n",
       "      <td>709.720000</td>\n",
       "      <td>2014.520000</td>\n",
       "    </tr>\n",
       "    <tr>\n",
       "      <th>Thursday</th>\n",
       "      <td>76.171154</td>\n",
       "      <td>76.852692</td>\n",
       "      <td>75.143846</td>\n",
       "      <td>75.804231</td>\n",
       "      <td>118402.576923</td>\n",
       "      <td>2014.500000</td>\n",
       "    </tr>\n",
       "    <tr>\n",
       "      <th>Tuesday</th>\n",
       "      <td>74.870800</td>\n",
       "      <td>75.612000</td>\n",
       "      <td>73.813600</td>\n",
       "      <td>74.608000</td>\n",
       "      <td>141213.880000</td>\n",
       "      <td>2014.560000</td>\n",
       "    </tr>\n",
       "    <tr>\n",
       "      <th>Wednesday</th>\n",
       "      <td>74.056154</td>\n",
       "      <td>75.047692</td>\n",
       "      <td>73.126538</td>\n",
       "      <td>74.044615</td>\n",
       "      <td>157971.230769</td>\n",
       "      <td>2014.653846</td>\n",
       "    </tr>\n",
       "    <tr>\n",
       "      <th rowspan=\"6\" valign=\"top\">Oct</th>\n",
       "      <th>Friday</th>\n",
       "      <td>77.333846</td>\n",
       "      <td>77.970769</td>\n",
       "      <td>76.284615</td>\n",
       "      <td>77.216154</td>\n",
       "      <td>130404.076923</td>\n",
       "      <td>2014.500000</td>\n",
       "    </tr>\n",
       "    <tr>\n",
       "      <th>Monday</th>\n",
       "      <td>77.312593</td>\n",
       "      <td>78.108148</td>\n",
       "      <td>76.384444</td>\n",
       "      <td>77.270000</td>\n",
       "      <td>127287.222222</td>\n",
       "      <td>2014.555556</td>\n",
       "    </tr>\n",
       "    <tr>\n",
       "      <th>Sunday</th>\n",
       "      <td>75.641200</td>\n",
       "      <td>75.791600</td>\n",
       "      <td>75.364800</td>\n",
       "      <td>75.576400</td>\n",
       "      <td>674.840000</td>\n",
       "      <td>2014.680000</td>\n",
       "    </tr>\n",
       "    <tr>\n",
       "      <th>Thursday</th>\n",
       "      <td>78.178148</td>\n",
       "      <td>79.299259</td>\n",
       "      <td>77.311481</td>\n",
       "      <td>78.498519</td>\n",
       "      <td>139323.222222</td>\n",
       "      <td>2014.444444</td>\n",
       "    </tr>\n",
       "    <tr>\n",
       "      <th>Tuesday</th>\n",
       "      <td>79.460000</td>\n",
       "      <td>80.167778</td>\n",
       "      <td>78.595185</td>\n",
       "      <td>79.437407</td>\n",
       "      <td>125926.481481</td>\n",
       "      <td>2014.444444</td>\n",
       "    </tr>\n",
       "    <tr>\n",
       "      <th>Wednesday</th>\n",
       "      <td>80.654444</td>\n",
       "      <td>81.469259</td>\n",
       "      <td>79.748148</td>\n",
       "      <td>80.390000</td>\n",
       "      <td>133101.592593</td>\n",
       "      <td>2014.333333</td>\n",
       "    </tr>\n",
       "    <tr>\n",
       "      <th rowspan=\"6\" valign=\"top\">Sep</th>\n",
       "      <th>Friday</th>\n",
       "      <td>70.554545</td>\n",
       "      <td>71.090909</td>\n",
       "      <td>69.615455</td>\n",
       "      <td>70.217727</td>\n",
       "      <td>133859.590909</td>\n",
       "      <td>2015.136364</td>\n",
       "    </tr>\n",
       "    <tr>\n",
       "      <th>Monday</th>\n",
       "      <td>74.995909</td>\n",
       "      <td>75.796364</td>\n",
       "      <td>74.096364</td>\n",
       "      <td>74.842727</td>\n",
       "      <td>108869.681818</td>\n",
       "      <td>2014.863636</td>\n",
       "    </tr>\n",
       "    <tr>\n",
       "      <th>Sunday</th>\n",
       "      <td>73.800476</td>\n",
       "      <td>73.894762</td>\n",
       "      <td>73.556667</td>\n",
       "      <td>73.662857</td>\n",
       "      <td>328.666667</td>\n",
       "      <td>2014.904762</td>\n",
       "    </tr>\n",
       "    <tr>\n",
       "      <th>Thursday</th>\n",
       "      <td>71.263333</td>\n",
       "      <td>72.134286</td>\n",
       "      <td>70.511905</td>\n",
       "      <td>71.430952</td>\n",
       "      <td>141186.333333</td>\n",
       "      <td>2015.047619</td>\n",
       "    </tr>\n",
       "    <tr>\n",
       "      <th>Tuesday</th>\n",
       "      <td>72.331364</td>\n",
       "      <td>73.057727</td>\n",
       "      <td>71.161364</td>\n",
       "      <td>71.989545</td>\n",
       "      <td>138726.181818</td>\n",
       "      <td>2014.954545</td>\n",
       "    </tr>\n",
       "    <tr>\n",
       "      <th>Wednesday</th>\n",
       "      <td>70.903333</td>\n",
       "      <td>72.141905</td>\n",
       "      <td>70.216190</td>\n",
       "      <td>71.317619</td>\n",
       "      <td>149589.809524</td>\n",
       "      <td>2015.000000</td>\n",
       "    </tr>\n",
       "  </tbody>\n",
       "</table>\n",
       "<p>72 rows × 6 columns</p>\n",
       "</div>"
      ],
      "text/plain": [
       "                      Open       High        Low      Close            Vol  \\\n",
       "Month Weekday                                                                \n",
       "Apr   Friday     72.198889  72.911667  71.253333  72.011111  141810.611111   \n",
       "      Monday     75.261905  76.180000  74.394762  75.371905  119385.285714   \n",
       "      Sunday     72.486190  72.635238  72.343333  72.507143     790.476190   \n",
       "      Thursday   73.323810  74.423810  72.618095  73.722857  132618.714286   \n",
       "      Tuesday    76.833636  77.732727  75.984545  77.085455  127994.000000   \n",
       "      Wednesday  74.923636  75.931364  73.938182  74.885909  145115.318182   \n",
       "Aug   Friday     75.367727  76.331364  74.792273  75.637273  130414.363636   \n",
       "      Monday     70.004545  70.789091  69.001364  69.821364  129490.500000   \n",
       "      Sunday     72.788182  72.890455  72.625455  72.723636     365.818182   \n",
       "      Thursday   72.638182  73.674091  71.893182  72.942273  145354.227273   \n",
       "      Tuesday    69.831818  70.681818  69.139091  69.929545  133827.772727   \n",
       "      Wednesday  69.871364  70.605909  69.183636  69.916818  148630.000000   \n",
       "Dec   Friday     73.633200  74.528000  72.994800  73.880400  109436.720000   \n",
       "      Monday     77.163200  78.096000  76.106800  76.834800  100183.480000   \n",
       "      Sunday     77.516667  77.735417  77.314583  77.520417     845.041667   \n",
       "      Thursday   71.792800  72.592400  71.044800  71.791200  111614.360000   \n",
       "      Tuesday    71.850000  72.690385  71.125000  71.899231  105583.346154   \n",
       "      Wednesday  70.223200  71.029200  69.166400  69.882400  120168.360000   \n",
       "Feb   Friday     74.751500  75.884500  74.225500  75.264000  117021.650000   \n",
       "      Monday     72.780000  73.632857  71.944762  72.695714  117693.380952   \n",
       "      Sunday     74.623000  74.796500  74.441500  74.633000     330.250000   \n",
       "      Thursday   74.382000  75.325000  73.514000  74.557500  144242.250000   \n",
       "      Tuesday    74.557000  75.471000  73.523500  74.328500  143664.050000   \n",
       "      Wednesday  74.343000  75.291500  73.317500  74.366000  146979.550000   \n",
       "Jan   Friday     71.708462  72.580769  70.767308  71.786538  136915.192308   \n",
       "      Monday     70.604800  71.067600  69.594800  70.065600  102835.600000   \n",
       "      Sunday     70.523182  70.640455  70.269545  70.418182     702.863636   \n",
       "      Thursday   73.883077  74.795769  73.125000  73.910769  124811.692308   \n",
       "      Tuesday    69.938077  70.846923  69.182308  69.791538  144992.269231   \n",
       "      Wednesday  72.102800  73.005200  71.429200  72.383600  138245.840000   \n",
       "...                    ...        ...        ...        ...            ...   \n",
       "Mar   Friday     73.938000  74.756000  73.182000  73.989500  124390.900000   \n",
       "      Monday     74.377727  75.017273  73.462273  74.271364  110730.500000   \n",
       "      Sunday     75.986522  76.184783  75.702174  75.916522     754.956522   \n",
       "      Thursday   70.899545  71.605909  70.097727  70.849545  141264.909091   \n",
       "      Tuesday    71.006818  71.703182  70.088182  70.712727  132804.500000   \n",
       "      Wednesday  70.767727  71.608182  70.015000  70.897727  140629.000000   \n",
       "May   Friday     77.547826  78.262609  76.655217  77.768696  126439.217391   \n",
       "      Monday     73.398636  73.926364  72.595455  73.200455   88023.090909   \n",
       "      Sunday     73.512500  73.661500  73.376000  73.513500     403.650000   \n",
       "      Thursday   77.989091  78.785909  77.074545  78.005000  138520.636364   \n",
       "      Tuesday    73.184091  73.990000  72.383182  73.225000  126326.818182   \n",
       "      Wednesday  75.559545  76.343636  74.615909  75.410909  145746.090909   \n",
       "Nov   Friday     77.571154  78.522308  76.652692  77.574231  124307.884615   \n",
       "      Monday     74.448400  75.425600  73.622800  74.685600  123901.840000   \n",
       "      Sunday     74.012000  74.186400  73.785200  73.949600     709.720000   \n",
       "      Thursday   76.171154  76.852692  75.143846  75.804231  118402.576923   \n",
       "      Tuesday    74.870800  75.612000  73.813600  74.608000  141213.880000   \n",
       "      Wednesday  74.056154  75.047692  73.126538  74.044615  157971.230769   \n",
       "Oct   Friday     77.333846  77.970769  76.284615  77.216154  130404.076923   \n",
       "      Monday     77.312593  78.108148  76.384444  77.270000  127287.222222   \n",
       "      Sunday     75.641200  75.791600  75.364800  75.576400     674.840000   \n",
       "      Thursday   78.178148  79.299259  77.311481  78.498519  139323.222222   \n",
       "      Tuesday    79.460000  80.167778  78.595185  79.437407  125926.481481   \n",
       "      Wednesday  80.654444  81.469259  79.748148  80.390000  133101.592593   \n",
       "Sep   Friday     70.554545  71.090909  69.615455  70.217727  133859.590909   \n",
       "      Monday     74.995909  75.796364  74.096364  74.842727  108869.681818   \n",
       "      Sunday     73.800476  73.894762  73.556667  73.662857     328.666667   \n",
       "      Thursday   71.263333  72.134286  70.511905  71.430952  141186.333333   \n",
       "      Tuesday    72.331364  73.057727  71.161364  71.989545  138726.181818   \n",
       "      Wednesday  70.903333  72.141905  70.216190  71.317619  149589.809524   \n",
       "\n",
       "                        Year  \n",
       "Month Weekday                 \n",
       "Apr   Friday     2015.000000  \n",
       "      Monday     2014.904762  \n",
       "      Sunday     2015.095238  \n",
       "      Thursday   2015.000000  \n",
       "      Tuesday    2014.863636  \n",
       "      Wednesday  2014.954545  \n",
       "Aug   Friday     2014.863636  \n",
       "      Monday     2015.045455  \n",
       "      Sunday     2014.954545  \n",
       "      Thursday   2015.000000  \n",
       "      Tuesday    2015.136364  \n",
       "      Wednesday  2015.136364  \n",
       "Dec   Friday     2014.640000  \n",
       "      Monday     2014.160000  \n",
       "      Sunday     2014.166667  \n",
       "      Thursday   2014.600000  \n",
       "      Tuesday    2014.538462  \n",
       "      Wednesday  2014.560000  \n",
       "Feb   Friday     2015.000000  \n",
       "      Monday     2015.047619  \n",
       "      Sunday     2015.000000  \n",
       "      Thursday   2015.000000  \n",
       "      Tuesday    2015.000000  \n",
       "      Wednesday  2015.000000  \n",
       "Jan   Friday     2015.423077  \n",
       "      Monday     2015.560000  \n",
       "      Sunday     2015.500000  \n",
       "      Thursday   2015.346154  \n",
       "      Tuesday    2015.653846  \n",
       "      Wednesday  2015.400000  \n",
       "...                      ...  \n",
       "Mar   Friday     2015.050000  \n",
       "      Monday     2014.954545  \n",
       "      Sunday     2014.869565  \n",
       "      Thursday   2015.136364  \n",
       "      Tuesday    2015.045455  \n",
       "      Wednesday  2015.136364  \n",
       "May   Friday     2014.869565  \n",
       "      Monday     2015.136364  \n",
       "      Sunday     2015.050000  \n",
       "      Thursday   2014.863636  \n",
       "      Tuesday    2015.136364  \n",
       "      Wednesday  2015.000000  \n",
       "Nov   Friday     2014.346154  \n",
       "      Monday     2014.520000  \n",
       "      Sunday     2014.520000  \n",
       "      Thursday   2014.500000  \n",
       "      Tuesday    2014.560000  \n",
       "      Wednesday  2014.653846  \n",
       "Oct   Friday     2014.500000  \n",
       "      Monday     2014.555556  \n",
       "      Sunday     2014.680000  \n",
       "      Thursday   2014.444444  \n",
       "      Tuesday    2014.444444  \n",
       "      Wednesday  2014.333333  \n",
       "Sep   Friday     2015.136364  \n",
       "      Monday     2014.863636  \n",
       "      Sunday     2014.904762  \n",
       "      Thursday   2015.047619  \n",
       "      Tuesday    2014.954545  \n",
       "      Wednesday  2015.000000  \n",
       "\n",
       "[72 rows x 6 columns]"
      ]
     },
     "execution_count": 102,
     "metadata": {},
     "output_type": "execute_result"
    }
   ],
   "source": [
    "# if you would like to compare results\n",
    "df.groupby(['Month', \"Weekday\"]).mean()"
   ]
  },
  {
   "cell_type": "code",
   "execution_count": null,
   "metadata": {},
   "outputs": [],
   "source": [
    "for i in range(len(rows)):\n",
    "    "
   ]
  }
 ],
 "metadata": {
  "hide_input": false,
  "kernelspec": {
   "display_name": "Python 3",
   "language": "python",
   "name": "python3"
  },
  "language_info": {
   "codemirror_mode": {
    "name": "ipython",
    "version": 3
   },
   "file_extension": ".py",
   "mimetype": "text/x-python",
   "name": "python",
   "nbconvert_exporter": "python",
   "pygments_lexer": "ipython3",
   "version": "3.7.3"
  },
  "toc": {
   "base_numbering": 1,
   "nav_menu": {},
   "number_sections": true,
   "sideBar": true,
   "skip_h1_title": false,
   "title_cell": "Table of Contents",
   "title_sidebar": "Contents",
   "toc_cell": false,
   "toc_position": {},
   "toc_section_display": true,
   "toc_window_display": false
  }
 },
 "nbformat": 4,
 "nbformat_minor": 2
}
