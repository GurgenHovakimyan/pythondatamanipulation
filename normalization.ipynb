{
 "cells": [
  {
   "cell_type": "code",
   "execution_count": 7,
   "metadata": {
    "ExecuteTime": {
     "end_time": "2020-12-10T21:31:02.426595Z",
     "start_time": "2020-12-10T21:31:02.415727Z"
    }
   },
   "outputs": [],
   "source": [
    "import numpy as np"
   ]
  },
  {
   "cell_type": "code",
   "execution_count": 1,
   "metadata": {
    "ExecuteTime": {
     "end_time": "2020-12-12T15:49:09.998535Z",
     "start_time": "2020-12-12T15:49:09.978930Z"
    }
   },
   "outputs": [],
   "source": [
    "def normalization(df, type = \"zscore\"):\n",
    "    \"\"\"\n",
    "    with normalization function you can normalize you data with two methods\n",
    "    by defualt it's zscore method and the second one is minmax normalization\n",
    "    \"\"\"\n",
    "    if type == \"zscore\":\n",
    "        for i in range(len(df.columns)):\n",
    "            a = df.columns\n",
    "            if np.issubdtype(df[a[i]].dtype, np.number):\n",
    "                avg = df[a[i]].mean()\n",
    "                sd = df[a[i]].std()\n",
    "                for j in range(len(df[a[i]])):\n",
    "                    df[a[i]][j] = (df[a[i]][j] - avg)/(sd)\n",
    "            else:\n",
    "                continue\n",
    "    elif type == 'normalization':\n",
    "        for i in range(len(df.columns)):\n",
    "            a = df.columns\n",
    "            if np.issubdtype(df[a[i]].dtype, np.number):\n",
    "                maximum = df[a[i]].max()\n",
    "                minimum = df[a[i]].min()\n",
    "                for j in range(len(df[a[i]])):\n",
    "                    df[a[i]][j] = (df[a[i]][j] - minimum)/(maximum - minimum)\n",
    "            else:\n",
    "                continue\n",
    "    else:\n",
    "        Print(\"Only two types of normalization are available: zscore and normalization\")\n",
    "    return df\n",
    "    "
   ]
  },
  {
   "cell_type": "code",
   "execution_count": null,
   "metadata": {},
   "outputs": [],
   "source": []
  }
 ],
 "metadata": {
  "hide_input": false,
  "kernelspec": {
   "display_name": "Python 3",
   "language": "python",
   "name": "python3"
  },
  "language_info": {
   "codemirror_mode": {
    "name": "ipython",
    "version": 3
   },
   "file_extension": ".py",
   "mimetype": "text/x-python",
   "name": "python",
   "nbconvert_exporter": "python",
   "pygments_lexer": "ipython3",
   "version": "3.7.3"
  },
  "toc": {
   "base_numbering": 1,
   "nav_menu": {},
   "number_sections": true,
   "sideBar": true,
   "skip_h1_title": false,
   "title_cell": "Table of Contents",
   "title_sidebar": "Contents",
   "toc_cell": false,
   "toc_position": {},
   "toc_section_display": true,
   "toc_window_display": false
  }
 },
 "nbformat": 4,
 "nbformat_minor": 2
}
