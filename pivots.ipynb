{
 "cells": [
  {
   "cell_type": "code",
   "execution_count": 4,
   "metadata": {
    "ExecuteTime": {
     "end_time": "2020-12-13T14:57:49.417342Z",
     "start_time": "2020-12-13T14:57:49.411889Z"
    }
   },
   "outputs": [],
   "source": [
    "import numpy as np"
   ]
  },
  {
   "cell_type": "code",
   "execution_count": 5,
   "metadata": {
    "ExecuteTime": {
     "end_time": "2020-12-13T14:57:49.634937Z",
     "start_time": "2020-12-13T14:57:49.618981Z"
    }
   },
   "outputs": [],
   "source": [
    "def pivoting(df, row, column, values):\n",
    "    \"\"\"\n",
    "    Pivoting function helps to look at data in shape that user want.\n",
    "    \n",
    "    \"\"\"\n",
    "    data = df[[row, column,  values]].to_numpy()\n",
    "    rows, row_pos = np.unique(data[:, 0], return_inverse=True)\n",
    "    cols, col_pos = np.unique(data[:, 1], return_inverse=True)\n",
    "    row_pos = np.sort(row_pos)\n",
    "    col_pos = np.sort(col_pos)\n",
    "    col_pos = np.tile(np.unique(col_pos), len(row_pos))\n",
    "    pivot_table = np.zeros((len(rows), len(cols)), dtype=data.dtype)\n",
    "    pivot_table[row_pos, col_pos[0:len(row_pos)]] = data[:, 2]\n",
    "    return pivot_table"
   ]
  },
  {
   "cell_type": "code",
   "execution_count": 6,
   "metadata": {
    "ExecuteTime": {
     "end_time": "2020-12-13T14:57:49.899866Z",
     "start_time": "2020-12-13T14:57:49.872714Z"
    }
   },
   "outputs": [],
   "source": [
    "def pivvottable(df, row, column, value):\n",
    "    \"\"\"\n",
    "    pivvottable create pivot table and make summary grouped by row and column \n",
    "    \"\"\"\n",
    "    data = df[[row, column, value]].to_numpy()\n",
    "    rows, row_pos = np.unique(data[:, 0], return_inverse = True)\n",
    "    cols, col_pos = np.unique(data[:, 1], return_inverse = True)\n",
    "    new_list = []\n",
    "    for i in range(len(rows)):\n",
    "        a = df.copy()\n",
    "        a = a[a[row]== rows[i]]\n",
    "        for j in range(len(cols)):\n",
    "            b = a.copy()\n",
    "            b = b[b[column] == cols[j]]\n",
    "            c = b[value].mean()\n",
    "            new_list.append(c)\n",
    "    pivottable = np.array(new_list).reshape(len(rows), len(cols))\n",
    "    return pivottable"
   ]
  }
 ],
 "metadata": {
  "hide_input": false,
  "kernelspec": {
   "display_name": "Python 3",
   "language": "python",
   "name": "python3"
  },
  "language_info": {
   "codemirror_mode": {
    "name": "ipython",
    "version": 3
   },
   "file_extension": ".py",
   "mimetype": "text/x-python",
   "name": "python",
   "nbconvert_exporter": "python",
   "pygments_lexer": "ipython3",
   "version": "3.7.3"
  },
  "toc": {
   "base_numbering": 1,
   "nav_menu": {},
   "number_sections": true,
   "sideBar": true,
   "skip_h1_title": false,
   "title_cell": "Table of Contents",
   "title_sidebar": "Contents",
   "toc_cell": false,
   "toc_position": {},
   "toc_section_display": true,
   "toc_window_display": false
  }
 },
 "nbformat": 4,
 "nbformat_minor": 2
}
